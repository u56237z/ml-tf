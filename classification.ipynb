{
  "nbformat": 4,
  "nbformat_minor": 0,
  "metadata": {
    "colab": {
      "name": "classification.ipynb",
      "provenance": [],
      "authorship_tag": "ABX9TyPHqYQBwzQxua2w2LLvSJ6b",
      "include_colab_link": true
    },
    "kernelspec": {
      "name": "python3",
      "display_name": "Python 3"
    },
    "language_info": {
      "name": "python"
    }
  },
  "cells": [
    {
      "cell_type": "markdown",
      "metadata": {
        "id": "view-in-github",
        "colab_type": "text"
      },
      "source": [
        "<a href=\"https://colab.research.google.com/github/u56237z/ml-tf/blob/main/classification.ipynb\" target=\"_parent\"><img src=\"https://colab.research.google.com/assets/colab-badge.svg\" alt=\"Open In Colab\"/></a>"
      ]
    },
    {
      "cell_type": "code",
      "execution_count": null,
      "metadata": {
        "id": "1jXWGx5DscbR"
      },
      "outputs": [],
      "source": [
        "import tensorflow as tf\n",
        "\n",
        "from sklearn.datasets import load_iris\n",
        "\n",
        "iris = load_iris()\n",
        "\n",
        "tf.random.set_seed(42)"
      ]
    },
    {
      "cell_type": "code",
      "source": [
        "iris.data.shape,iris.target.shape"
      ],
      "metadata": {
        "colab": {
          "base_uri": "https://localhost:8080/"
        },
        "id": "7eAXdvBgvZUi",
        "outputId": "aec667df-7bbc-404b-9b7e-f2435d6096c7"
      },
      "execution_count": null,
      "outputs": [
        {
          "output_type": "execute_result",
          "data": {
            "text/plain": [
              "((150, 4), (150,))"
            ]
          },
          "metadata": {},
          "execution_count": 2
        }
      ]
    },
    {
      "cell_type": "code",
      "source": [
        "i = tf.random.shuffle([x for x in range(0,iris.data.shape[0])])\n",
        "\n",
        "X = tf.gather(iris.data,i)\n",
        "y = tf.gather(iris.target,i)\n",
        "\n",
        "v = int(iris.data.shape[0]*0.8);\n",
        "r = int(v*0.8)\n",
        "\n",
        "X_train = X[:r]\n",
        "y_train = y[:r]\n",
        "\n",
        "X_val = X[r:v]\n",
        "y_val = y[r:v]\n",
        "\n",
        "X_test = X[v:]\n",
        "y_test = y[v:]"
      ],
      "metadata": {
        "id": "qLhfJ81fwjsB"
      },
      "execution_count": null,
      "outputs": []
    },
    {
      "cell_type": "code",
      "source": [
        "model = tf.keras.Sequential([\n",
        "  tf.keras.layers.Dense(60,activation=tf.keras.activations.relu,input_shape=[4]),\n",
        "  tf.keras.layers.Dense(3, activation=tf.keras.activations.softmax)\n",
        "])\n",
        "\n",
        "model.compile(optimizer=tf.keras.optimizers.SGD(),\n",
        "              loss=tf.keras.losses.CategoricalCrossentropy()\n",
        ")\n",
        "\n",
        "history = model.fit(X_train,tf.one_hot(y_train,3),epochs=2000,verbose=0,validation_data=(X_val,tf.one_hot(y_val,3)))"
      ],
      "metadata": {
        "id": "Y_cAGATMy5pe"
      },
      "execution_count": null,
      "outputs": []
    },
    {
      "cell_type": "code",
      "source": [
        "model.evaluate(X_test,tf.one_hot(y_test,3))"
      ],
      "metadata": {
        "colab": {
          "base_uri": "https://localhost:8080/"
        },
        "id": "SFXH9P_r0vHI",
        "outputId": "bdbebbec-45f0-47f8-aac5-0925b83f5f36"
      },
      "execution_count": null,
      "outputs": [
        {
          "output_type": "stream",
          "name": "stdout",
          "text": [
            "1/1 [==============================] - 0s 15ms/step - loss: 0.0636\n"
          ]
        },
        {
          "output_type": "execute_result",
          "data": {
            "text/plain": [
              "0.06355833262205124"
            ]
          },
          "metadata": {},
          "execution_count": 5
        }
      ]
    },
    {
      "cell_type": "code",
      "source": [
        "y_pred = model.predict(X_test)\n",
        "\n",
        "X_test[4],y_test[4],y_pred[4]"
      ],
      "metadata": {
        "colab": {
          "base_uri": "https://localhost:8080/"
        },
        "id": "DpVGEc-j1G47",
        "outputId": "265ccf92-ff57-4228-979c-2fa8067a54d9"
      },
      "execution_count": null,
      "outputs": [
        {
          "output_type": "execute_result",
          "data": {
            "text/plain": [
              "(<tf.Tensor: shape=(4,), dtype=float64, numpy=array([6. , 2.2, 5. , 1.5])>,\n",
              " <tf.Tensor: shape=(), dtype=int64, numpy=2>,\n",
              " array([3.6236574e-07, 8.8122385e-03, 9.9118739e-01], dtype=float32))"
            ]
          },
          "metadata": {},
          "execution_count": 6
        }
      ]
    }
  ]
}