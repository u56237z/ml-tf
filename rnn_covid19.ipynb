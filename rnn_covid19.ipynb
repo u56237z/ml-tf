{
  "nbformat": 4,
  "nbformat_minor": 0,
  "metadata": {
    "colab": {
      "name": "rnn-covid19.ipynb",
      "provenance": [],
      "mount_file_id": "1b9NDsjI9WYgOr0a_NL1tNlv7cAMhhCcL",
      "authorship_tag": "ABX9TyOTQtb/MNq9/KKJMJ0WDICv",
      "include_colab_link": true
    },
    "kernelspec": {
      "name": "python3",
      "display_name": "Python 3"
    },
    "language_info": {
      "name": "python"
    }
  },
  "cells": [
    {
      "cell_type": "markdown",
      "metadata": {
        "id": "view-in-github",
        "colab_type": "text"
      },
      "source": [
        "<a href=\"https://colab.research.google.com/github/u56237z/ml-tf/blob/main/rnn_covid19.ipynb\" target=\"_parent\"><img src=\"https://colab.research.google.com/assets/colab-badge.svg\" alt=\"Open In Colab\"/></a>"
      ]
    },
    {
      "cell_type": "code",
      "source": [
        "from google.colab import drive\n",
        "\n",
        "drive.mount(\"/content/drive\")"
      ],
      "metadata": {
        "colab": {
          "base_uri": "https://localhost:8080/"
        },
        "id": "rkbMnPz_Iq2p",
        "outputId": "54a1e361-876c-4e56-9f40-c58c6d35b0e3"
      },
      "execution_count": 1,
      "outputs": [
        {
          "output_type": "stream",
          "name": "stdout",
          "text": [
            "Drive already mounted at /content/drive; to attempt to forcibly remount, call drive.mount(\"/content/drive\", force_remount=True).\n"
          ]
        }
      ]
    },
    {
      "cell_type": "code",
      "source": [
        "import json\n",
        "\n",
        "f = open(\"/content/drive/My Drive/Colab Notebooks/dpc-covid19-ita-andamento-nazionale.json\")\n",
        "\n",
        "j = json.load(f)"
      ],
      "metadata": {
        "id": "GdBPwrnpKMGa"
      },
      "execution_count": 2,
      "outputs": []
    },
    {
      "cell_type": "code",
      "source": [
        "dec = []\n",
        "\n",
        "for i in j: dec.append(i['deceduti'])"
      ],
      "metadata": {
        "id": "P3TJ4ue3q1g3"
      },
      "execution_count": 3,
      "outputs": []
    },
    {
      "cell_type": "code",
      "execution_count": 4,
      "metadata": {
        "id": "8vWKhB3aXbuM"
      },
      "outputs": [],
      "source": [
        "import tensorflow as tf\n",
        "import numpy as np\n",
        "import math\n",
        "\n",
        "from sklearn.preprocessing import MinMaxScaler\n",
        "from matplotlib import pyplot as plt\n",
        "\n",
        "sc = MinMaxScaler(feature_range=(0,1))\n",
        "\n",
        "tf.random.set_seed(42)"
      ]
    },
    {
      "cell_type": "code",
      "source": [
        "x_set_max = len(j)\n",
        "x_trn_max = int(x_set_max*0.8)\n",
        "\n",
        "X_seq = sc.fit_transform(np.reshape(dec,(-1,1)))\n",
        "\n",
        "X_set = []\n",
        "y_set = []\n",
        "\n",
        "for i in range(20,x_set_max):\n",
        "  X_set.append(X_seq[i-20:i,0])\n",
        "  y_set.append(X_seq[i,0])\n",
        "\n",
        "X_train = np.array(X_set[:x_trn_max])\n",
        "y_train = np.array(y_set[:x_trn_max])\n",
        "\n",
        "X_test = np.array(X_set[x_trn_max:])\n",
        "y_test = np.array(y_set[x_trn_max:])"
      ],
      "metadata": {
        "id": "vXKghvSQXql3"
      },
      "execution_count": 5,
      "outputs": []
    },
    {
      "cell_type": "code",
      "source": [
        "model = tf.keras.Sequential([\n",
        "  tf.keras.layers.LSTM(90,dropout=0.2,return_sequences=True,input_shape=[20,1]),\n",
        "  tf.keras.layers.LSTM(60,dropout=0.2,return_sequences=True),\n",
        "  tf.keras.layers.LSTM(50,dropout=0.2),\n",
        "  tf.keras.layers.Dense(1)\n",
        "])\n",
        "\n",
        "model.compile(optimizer=tf.keras.optimizers.Adam(),\n",
        "              loss=tf.keras.losses.mean_squared_error\n",
        ")\n",
        "\n",
        "history = model.fit(X_train,y_train,epochs=800,verbose=0)"
      ],
      "metadata": {
        "id": "_nunqvNAYDiF"
      },
      "execution_count": 6,
      "outputs": []
    },
    {
      "cell_type": "code",
      "source": [
        "model.evaluate(X_test,y_test)"
      ],
      "metadata": {
        "colab": {
          "base_uri": "https://localhost:8080/"
        },
        "id": "3eTKPvoSb5_O",
        "outputId": "73b04bc8-1207-4664-e9eb-3e6636d8e1a7"
      },
      "execution_count": 7,
      "outputs": [
        {
          "output_type": "stream",
          "name": "stdout",
          "text": [
            "4/4 [==============================] - 1s 12ms/step - loss: 0.0228\n"
          ]
        },
        {
          "output_type": "execute_result",
          "data": {
            "text/plain": [
              "0.022794552147388458"
            ]
          },
          "metadata": {},
          "execution_count": 7
        }
      ]
    },
    {
      "cell_type": "code",
      "source": [
        "y_pred = model.predict(X_test)"
      ],
      "metadata": {
        "id": "9558ygB4ehgS"
      },
      "execution_count": 8,
      "outputs": []
    },
    {
      "cell_type": "code",
      "source": [
        "f = plt.figure(figsize=(22,7))\n",
        "\n",
        "f1 = f.add_subplot(121)\n",
        "\n",
        "f1.scatter([x for x in range(0,x_trn_max)],y_train,c=\"g\",label=\"train\")\n",
        "f1.scatter([x+x_trn_max+1 for x in range(0,x_set_max-x_trn_max-20)],[y-(y_pred[0]-y_test[0]) for y in y_pred],c=\"b\",label=\"pred\",alpha=0.2)\n",
        "f1.scatter([x+x_trn_max+1 for x in range(0,x_set_max-x_trn_max-20)],y_test,c=\"r\",label=\"actual\",alpha=0.2)"
      ],
      "metadata": {
        "colab": {
          "base_uri": "https://localhost:8080/",
          "height": 445
        },
        "id": "B6pjrL5040cB",
        "outputId": "4ee8be3b-221e-4609-c329-7e3ceadc76e6"
      },
      "execution_count": 9,
      "outputs": [
        {
          "output_type": "execute_result",
          "data": {
            "text/plain": [
              "<matplotlib.collections.PathCollection at 0x7f5e68012c10>"
            ]
          },
          "metadata": {},
          "execution_count": 9
        },
        {
          "output_type": "display_data",
          "data": {
            "image/png": "[encoded data removed]",
            "text/plain": [
              "<Figure size 1584x504 with 1 Axes>"
            ]
          },
          "metadata": {
            "needs_background": "light"
          }
        }
      ]
    }
  ]
}